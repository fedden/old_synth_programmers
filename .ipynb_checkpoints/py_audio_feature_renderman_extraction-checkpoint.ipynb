{
 "metadata": {
  "name": "",
  "signature": "sha256:a7bfd899c8ca42a023bc0c2b25b0ab3a08fbab2d4bbbae7a18677f2e28503849"
 },
 "nbformat": 3,
 "nbformat_minor": 0,
 "worksheets": [
  {
   "cells": [
    {
     "cell_type": "code",
     "collapsed": false,
     "input": [
      "import numpy as np\n",
      "import librenderman as rm\n",
      "from pyAudioAnalysis import audioFeatureExtraction as fe\n",
      "\n",
      "# Constant settings.\n",
      "midi_note = 40\n",
      "midi_velocity = 127\n",
      "note_length = 0.8\n",
      "render_length = 2.1\n",
      "sample_rate = 44100\n",
      "frame_size_ms = 50\n",
      "frame_step_ms = 25\n",
      "\n",
      "# Load the plugin into the engine.\n",
      "engine = rm.RenderEngine(sample_rate, 512, 2048)\n",
      "path = \"/home/tollie/Development/vsts/dexed/Builds/Linux/build/Dexed.so\"\n",
      "if engine.load_plugin(path):\n",
      "    generator = rm.PatchGenerator(engine)\n",
      "    print \"Successfully loaded Dexed\"\n",
      "\n",
      "# A random synthesiser preset in the form of a tuple.\n",
      "random_patch = generator.get_random_patch()\n",
      "\n",
      "# Program in the patch on the synth.\n",
      "engine.set_patch(random_patch)\n",
      "\n",
      "# Render the audio (and features) that comes from such a patch.\n",
      "engine.render_patch(midi_note,\n",
      "                    midi_velocity,\n",
      "                    note_length,\n",
      "                    render_length)"
     ],
     "language": "python",
     "metadata": {},
     "outputs": [
      {
       "output_type": "stream",
       "stream": "stdout",
       "text": [
        "Successfully loaded Dexed\n"
       ]
      }
     ],
     "prompt_number": 99
    },
    {
     "cell_type": "code",
     "collapsed": false,
     "input": [
      "# The audio_frames.\n",
      "audio_frames = np.array(engine.get_audio_frames())\n",
      "audio_frames *= 32768.0\n",
      "audio_frames = np.clip(audio_frames, -32768.0, 32767.0)\n",
      "audio_frames = audio_frames.astype(np.int16)\n",
      "\n",
      "# Feature sampling frame settings.\n",
      "frame_size_samples = int(frame_size_ms * sample_rate / 1000.0)\n",
      "frame_step_samples = int(frame_step_ms * sample_rate / 1000.0)\n",
      "\n",
      "# All of the short-term windowing process features in an array.\n",
      "# For each short-term window a set of features are extracted.\n",
      "feature_vector = fe.stFeatureExtraction(audio_frames,\n",
      "                                        sample_rate,\n",
      "                                        frame_size_samples,\n",
      "                                        frame_step_samples)"
     ],
     "language": "python",
     "metadata": {},
     "outputs": [],
     "prompt_number": 96
    },
    {
     "cell_type": "markdown",
     "metadata": {},
     "source": [
      "| Feature ID \t| Feature Name       \t| Description                                                                                                                                               \t|\n",
      "|:----------:\t|--------------------\t|-----------------------------------------------------------------------------------------------------------------------------------------------------------\t|\n",
      "| 1          \t| Zero Crossing Rate \t| The rate of sign-changes of the signal during the duration of a particular frame.                                                                         \t|\n",
      "| 2          \t| Energy             \t| The sum of squares of the signal values, normalized by the respective frame length.                                                                       \t|\n",
      "| 3          \t| Entropy of Energy  \t| The entropy of sub-frames' normalized energies. It can be interpreted as a measure of abrupt changes.                                                     \t|\n",
      "| 4          \t| Spectral Centroid  \t| The center of gravity of the spectrum.                                                                                                                    \t|\n",
      "| 5          \t| Spectral Spread    \t| The second central moment of the spectrum.                                                                                                                \t|\n",
      "| 6          \t| Spectral Entropy   \t| Entropy of the normalized spectral energies for a set of sub-frames.                                                                                      \t|\n",
      "| 7          \t| Spectral Flux      \t| The squared difference between the normalized magnitudes of the spectra of the two successive frames.                                                     \t|\n",
      "| 8          \t| Spectral Rolloff   \t| The frequency below which 90% of the magnitude distribution of the spectrum is concentrated.                                                              \t|\n",
      "| 9-21       \t| MFCCs              \t| Mel Frequency Cepstral Coefficients form a cepstral representation where the frequency bands are not linear but distributed according to the mel-scale.   \t|\n",
      "| 22-33      \t| Chroma Vector      \t| A 12-element representation of the spectral energy where the bins represent the 12 equal-tempered pitch classes of western-type music (semitone spacing). \t|\n",
      "| 34         \t| Chroma Deviation   \t| The standard deviation of the 12 chroma coefficients.                                                                                                     \t|"
     ]
    },
    {
     "cell_type": "code",
     "collapsed": false,
     "input": [
      "# Get the min and max, ensure they are sensible values...\n",
      "print \"ZCR\"\n",
      "print np.min(feature_vector[0])\n",
      "print np.max(feature_vector[0])\n",
      "print \"ENERGY\"\n",
      "print np.min(feature_vector[1])\n",
      "print np.max(feature_vector[1])\n",
      "print \"ENTROPY OF ENERGY\"\n",
      "print np.min(feature_vector[2])\n",
      "print np.max(feature_vector[2])\n",
      "print \"SPECTRAL CENTROID\"\n",
      "print np.min(feature_vector[3])\n",
      "print np.max(feature_vector[3])\n",
      "print \"SPECTRAL ROLLOFF\"\n",
      "print np.min(feature_vector[7])\n",
      "print np.max(feature_vector[7])\n",
      "print \"MFCCS\"\n",
      "print np.min(feature_vector[8:20])\n",
      "print np.max(feature_vector[8:20])\n",
      "print \"CHROMA\"\n",
      "print np.min(feature_vector[21:32])\n",
      "print np.max(feature_vector[21:32])\n",
      "print \"CHROMA DEVIATION\"\n",
      "print np.min(feature_vector[33])\n",
      "print np.max(feature_vector[33])\n",
      "\n",
      "contains_nan = np.isnan(feature_vector).any()\n",
      "print \"\\nContains nan values: \" + str(contains_nan)\n",
      "\n",
      "if contains_nan:\n",
      "    print audio_frames\n",
      "    print np.min(audio_frames)\n",
      "    print np.max(audio_frames)"
     ],
     "language": "python",
     "metadata": {},
     "outputs": [
      {
       "output_type": "stream",
       "stream": "stdout",
       "text": [
        "ZCR\n",
        "0.0149727767695\n",
        "0.137477313975\n",
        "ENERGY\n",
        "0.00129035072672\n",
        "0.316714679982\n",
        "ENTROPY OF ENERGY\n",
        "3.2318583182\n",
        "3.32097656087\n",
        "SPECTRAL CENTROID\n",
        "0.0617263192729\n",
        "0.212070709636\n",
        "SPECTRAL ROLLOFF\n",
        "0.0154264972777\n",
        "0.142468239564\n",
        "MFCCS\n",
        "-31.3360083074\n",
        "4.64537811052\n",
        "CHROMA\n",
        "7.08284356698e-07\n",
        "0.226252024201\n",
        "CHROMA DEVIATION\n",
        "0.00185824084202\n",
        "0.0620981278923\n",
        "\n",
        "Contains nan values: False\n"
       ]
      }
     ],
     "prompt_number": 97
    }
   ],
   "metadata": {}
  }
 ]
}